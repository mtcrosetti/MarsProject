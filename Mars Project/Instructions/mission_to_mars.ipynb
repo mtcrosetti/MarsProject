{
 "cells": [
  {
   "cell_type": "code",
   "execution_count": 2,
   "metadata": {},
   "outputs": [],
   "source": [
    "from splinter import Browser\n",
    "from bs4 import BeautifulSoup\n",
    "import requests\n",
    "import pymongo"
   ]
  },
  {
   "cell_type": "code",
   "execution_count": 3,
   "metadata": {},
   "outputs": [
    {
     "name": "stdout",
     "output_type": "stream",
     "text": [
      "\n",
      "\n",
      "Why This Martian Full Moon Looks Like Candy\n",
      "\n",
      "\n"
     ]
    }
   ],
   "source": [
    "# STEP ONE: SCRAPING\n",
    "### News Title\n",
    "url=\"https://mars.nasa.gov/news/\"\n",
    "response = requests.get(url)\n",
    "soup = BeautifulSoup(response.text, 'html.parser')\n",
    "news_title = soup.find('div', class_ = 'content_title').text\n",
    "print(news_title)"
   ]
  },
  {
   "cell_type": "code",
   "execution_count": 4,
   "metadata": {},
   "outputs": [
    {
     "data": {
      "text/plain": [
       "\"For the first time, NASA's Mars Odyssey orbiter has caught the Martian moon Phobos during a full moon phase. Each color in this new image represents a temperature range detected by Odyssey's infrared camera.\""
      ]
     },
     "execution_count": 4,
     "metadata": {},
     "output_type": "execute_result"
    }
   ],
   "source": [
    "### Paragraph Text\n",
    "paragraphs = soup.find_all('div', class_='rollover_description_inner')\n",
    "paragraph_text = paragraphs[0].text\n",
    "paragraph_text = paragraph_text.replace('\\n', '')\n",
    "paragraph_text"
   ]
  },
  {
   "cell_type": "code",
   "execution_count": 5,
   "metadata": {},
   "outputs": [],
   "source": [
    "##JPL Mars Space Images - Featured Images\n",
    "url2=\"https://www.jpl.nasa.gov/spaceimages/?search=&category=Mars\"\n",
    "url3=\"https://www.jpl.nasa.gov\"\n",
    "\n",
    "###executable paths/browser\n",
    "executable_path = {'executable_path': 'chromedriver.exe'}\n",
    "browser = Browser('chrome', **executable_path, headless=False)\n"
   ]
  },
  {
   "cell_type": "code",
   "execution_count": 6,
   "metadata": {},
   "outputs": [],
   "source": [
    "###test browser\n",
    "#browser.visit(url2)"
   ]
  },
  {
   "cell_type": "code",
   "execution_count": 7,
   "metadata": {},
   "outputs": [],
   "source": [
    "###request on url2, BS on url2\n",
    "response2 = requests.get(url2)\n",
    "soup2 = BeautifulSoup(response2.text, 'html.parser')\n",
    "images = soup2.find_all('article', class_ = \"carousel_item\")\n",
    "####run \"images\" to pull featured img URL"
   ]
  },
  {
   "cell_type": "code",
   "execution_count": 8,
   "metadata": {},
   "outputs": [
    {
     "data": {
      "text/plain": [
       "'https://www.jpl.nasa.gov/spaceimages/images/wallpaper/PIA00063-1920x1200.jpg'"
      ]
     },
     "execution_count": 8,
     "metadata": {},
     "output_type": "execute_result"
    }
   ],
   "source": [
    "###Full size jpg URL string\n",
    "featured_image_url = url3 + \"/spaceimages/images/wallpaper/PIA00063-1920x1200.jpg\"\n",
    "featured_image_url"
   ]
  },
  {
   "cell_type": "code",
   "execution_count": 9,
   "metadata": {},
   "outputs": [
    {
     "data": {
      "text/plain": [
       "\"Congratulations to our orbiting companion! \\n@NASA's MRO Completes 60,000 Trips Around #Mars: https://go.nasa.gov/2w0c36K\\xa0.pic.twitter.com/Q0jtKuxBK5\""
      ]
     },
     "execution_count": 9,
     "metadata": {},
     "output_type": "execute_result"
    }
   ],
   "source": [
    "## Mars Weather\n",
    "url4 = \"https://twitter.com/marswxreport?lang=en\"\n",
    "response4 = requests.get(url4)\n",
    "soup4 = BeautifulSoup(response4.text, 'html.parser')\n",
    "mars_weather = soup4.find('p', class_='TweetTextSize TweetTextSize--normal js-tweet-text tweet-text').text\n",
    "mars_weather"
   ]
  },
  {
   "cell_type": "code",
   "execution_count": 11,
   "metadata": {},
   "outputs": [
    {
     "data": {
      "text/plain": [
       "[<table class=\"tablepress tablepress-id-mars\" id=\"tablepress-mars\">\n",
       " <tbody>\n",
       " <tr class=\"row-1 odd\">\n",
       " <td class=\"column-1\"><strong>Equatorial Diameter:</strong></td><td class=\"column-2\">6,792 km<br/>\n",
       " </td>\n",
       " </tr>\n",
       " <tr class=\"row-2 even\">\n",
       " <td class=\"column-1\"><strong>Polar Diameter:</strong></td><td class=\"column-2\">6,752 km<br/>\n",
       " </td>\n",
       " </tr>\n",
       " <tr class=\"row-3 odd\">\n",
       " <td class=\"column-1\"><strong>Mass:</strong></td><td class=\"column-2\">6.42 x 10^23 kg (10.7% Earth)</td>\n",
       " </tr>\n",
       " <tr class=\"row-4 even\">\n",
       " <td class=\"column-1\"><strong>Moons:</strong></td><td class=\"column-2\">2 (<a href=\"https://space-facts.com/phobos/\">Phobos</a> &amp; <a href=\"https://space-facts.com/deimos/\">Deimos</a>)</td>\n",
       " </tr>\n",
       " <tr class=\"row-5 odd\">\n",
       " <td class=\"column-1\"><strong>Orbit Distance:</strong></td><td class=\"column-2\">227,943,824 km (1.52 AU)</td>\n",
       " </tr>\n",
       " <tr class=\"row-6 even\">\n",
       " <td class=\"column-1\"><strong>Orbit Period:</strong></td><td class=\"column-2\">687 days (1.9 years)<br/>\n",
       " </td>\n",
       " </tr>\n",
       " <tr class=\"row-7 odd\">\n",
       " <td class=\"column-1\"><strong>Surface Temperature: </strong></td><td class=\"column-2\">-153 to 20 °C</td>\n",
       " </tr>\n",
       " <tr class=\"row-8 even\">\n",
       " <td class=\"column-1\"><strong>First Record:</strong></td><td class=\"column-2\">2nd millennium BC</td>\n",
       " </tr>\n",
       " <tr class=\"row-9 odd\">\n",
       " <td class=\"column-1\"><strong>Recorded By:</strong></td><td class=\"column-2\">Egyptian astronomers</td>\n",
       " </tr>\n",
       " </tbody>\n",
       " </table>]"
      ]
     },
     "execution_count": 11,
     "metadata": {},
     "output_type": "execute_result"
    }
   ],
   "source": [
    "## Mars Facts (done out of order - thus URL9)\n",
    "url9 = 'https://space-facts.com/mars/'\n",
    "response9 = requests.get(url9)\n",
    "soup9 = BeautifulSoup(response9.text, 'html5lib')\n",
    "mars_facts = soup9.find_all('table')\n",
    "mars_facts"
   ]
  },
  {
   "cell_type": "code",
   "execution_count": 11,
   "metadata": {},
   "outputs": [],
   "source": [
    "## Mars Hemispheres\n",
    "url5 = 'https://astrogeology.usgs.gov/search/map/Mars/Viking/cerberus_enhanced'\n",
    "url6 = 'https://astrogeology.usgs.gov/search/map/Mars/Viking/schiaparelli_enhanced'\n",
    "url7 = 'https://astrogeology.usgs.gov/search/map/Mars/Viking/syrtis_major_enhanced'\n",
    "url8 = 'https://astrogeology.usgs.gov/search/map/Mars/Viking/valles_marineris_enhanced'\n",
    "\n",
    "response5 = requests.get(url5)\n",
    "soup5 = BeautifulSoup(response5.text, 'html.parser')\n",
    "cerberus = soup5.find('a', target= \"_blank\")[\"href\"]\n",
    "\n",
    "response6 = requests.get(url6)\n",
    "soup6 = BeautifulSoup(response6.text, 'html.parser')\n",
    "schiaparelli = soup6.find('a', target= \"_blank\")[\"href\"]\n",
    "\n",
    "response7 = requests.get(url7)\n",
    "soup7 = BeautifulSoup(response7.text, 'html.parser')\n",
    "syrtis_major = soup7.find('a', target= \"_blank\")[\"href\"]\n",
    "\n",
    "response8 = requests.get(url8)\n",
    "soup8 = BeautifulSoup(response8.text, 'html.parser')\n",
    "valles_marineris = soup8.find('a', target= \"_blank\")[\"href\"]\n",
    "\n"
   ]
  },
  {
   "cell_type": "code",
   "execution_count": 13,
   "metadata": {},
   "outputs": [
    {
     "data": {
      "text/plain": [
       "[{'Cerberus': 'http://astropedia.astrogeology.usgs.gov/download/Mars/Viking/cerberus_enhanced.tif/full.jpg'},\n",
       " {'Schiaparelli': 'http://astropedia.astrogeology.usgs.gov/download/Mars/Viking/schiaparelli_enhanced.tif/full.jpg'},\n",
       " {'Syrtis Major': 'http://astropedia.astrogeology.usgs.gov/download/Mars/Viking/syrtis_major_enhanced.tif/full.jpg'},\n",
       " {'Valles Marineris': 'http://astropedia.astrogeology.usgs.gov/download/Mars/Viking/valles_marineris_enhanced.tif/full.jpg'}]"
      ]
     },
     "execution_count": 13,
     "metadata": {},
     "output_type": "execute_result"
    }
   ],
   "source": [
    "### Dictionary / List creation\n",
    "cerberus_dict = {\n",
    "    \"Cerberus\" : cerberus\n",
    "}\n",
    "schiaparelli_dict = {\n",
    "    \"Schiaparelli\" : schiaparelli\n",
    "}\n",
    "syrtis_major_dict = {\n",
    "    \"Syrtis Major\" : syrtis_major\n",
    "}\n",
    "valles_marineris_dict = {\n",
    "    \"Valles Marineris\" : valles_marineris\n",
    "}\n",
    "\n",
    "hemisphere_list = [cerberus_dict, schiaparelli_dict, syrtis_major_dict, valles_marineris_dict]\n",
    "hemisphere_list"
   ]
  }
 ],
 "metadata": {
  "kernelspec": {
   "display_name": "Python 3",
   "language": "python",
   "name": "python3"
  },
  "language_info": {
   "codemirror_mode": {
    "name": "ipython",
    "version": 3
   },
   "file_extension": ".py",
   "mimetype": "text/x-python",
   "name": "python",
   "nbconvert_exporter": "python",
   "pygments_lexer": "ipython3",
   "version": "3.7.1"
  }
 },
 "nbformat": 4,
 "nbformat_minor": 2
}
